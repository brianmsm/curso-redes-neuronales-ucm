{
  "nbformat": 4,
  "nbformat_minor": 0,
  "metadata": {
    "colab": {
      "provenance": [],
      "include_colab_link": true
    },
    "kernelspec": {
      "name": "python3",
      "display_name": "Python 3"
    },
    "language_info": {
      "name": "python"
    }
  },
  "cells": [
    {
      "cell_type": "markdown",
      "metadata": {
        "id": "view-in-github",
        "colab_type": "text"
      },
      "source": [
        "<a href=\"https://colab.research.google.com/github/brianmsm/curso-redes-neuronales-ucm/blob/main/PRACTICA_03_Regresion_con_MLP.ipynb\" target=\"_parent\"><img src=\"https://colab.research.google.com/assets/colab-badge.svg\" alt=\"Open In Colab\"/></a>"
      ]
    },
    {
      "cell_type": "markdown",
      "source": [
        "<font color=\"darkorange\" size=\"10\"><b>03. Regresión con MLP</b></font>\n",
        "\n",
        "Miguel A. Castellanos"
      ],
      "metadata": {
        "id": "cLhMHf533SB7"
      }
    },
    {
      "cell_type": "markdown",
      "source": [
        "En este cuaderno vamos a construir nuestras primeras redes neuronales usando **pytorch**, vete fijándote en el código y en las explicaciones que se adjuntan porque la mayoría del código se puede reutilizar, de hecho, un buen consejo es preparar tu propio **\"*manual*\"** con las partes de código y explicaciones que creas relevantes.\n",
        "\n",
        "Vamos a empezar por las redes más sencillas, los __perceptrones multicapa__, exactamente iguales que los que hemos estado utilizando en [playground](https://playground.tensorflow.org/).\n",
        "\n",
        "La tarea es identica a la realizada en playground, **predecir unos valores cuantitativos**, pero ahora en vez de ser un sandbox completamente opaco vamos a programar nuestras redes en tiempo real con todo el control.\n",
        "\n",
        "__No te frustres__, a veces escribir código es frustrante porque te da la sensación de que unas veces funciona y otras no. Los ordenadores son deterministas, no tienen opiniones ni les caes mal; si antes te ha funcionado y ahora no es porque hay algo diferente, sigue intentándolo y si ves que no lo consigues consulta con un compañero o con el profesor.\n",
        "\n",
        "En general, los ejercicios siempre están basados en cosas que han sido explicadas en clase, cuando haya un ejercicio que no te salga, relee los materiales y fíjate despacio en el código previo, es posible que la solución la tengas a la vista. Si aún así no encuentras la solución pregunta a tus compañeros y __no dudes en contactar conmigo__."
      ],
      "metadata": {
        "id": "orRyTWuP3WoL"
      }
    },
    {
      "cell_type": "markdown",
      "source": [
        "Lo primero que vamos a hacer es cargar un montón de paquetes y librerías de python que vamos a necesitar para que se calculen las redes. No te preocupes por esta parte, no es necesario entender qué o cómo lo hace, simplemente ejecútala. Lo que hace este código es:\n",
        "\n",
        "Carga los paquetes: numpy, tensorflow2, panda, matplolib, pytorch y sklearn. Son paquetes básicos para el trabajo con datos y los paquetes relacionados con Deep Learning.\n",
        "Para ejecutar un código puedes pinchar en la flecha de la celda o usar Ctr+Enter en el teclado."
      ],
      "metadata": {
        "id": "l9SIsOst4gEI"
      }
    },
    {
      "cell_type": "markdown",
      "source": [
        "## Empezamos trabajando con los datos"
      ],
      "metadata": {
        "id": "5WmTrQEFv_fg"
      }
    },
    {
      "cell_type": "code",
      "execution_count": 1,
      "metadata": {
        "id": "NpiUU05jjd0p"
      },
      "outputs": [],
      "source": [
        "# Importamos las librerias que vamos a necesitar\n",
        "\n",
        "import numpy as np\n",
        "import matplotlib.pyplot as plt\n",
        "import sklearn\n",
        "import torch"
      ]
    },
    {
      "cell_type": "code",
      "source": [
        "# Generamos unos datos de X e y usando numpy\n",
        "\n",
        "X = np.array(\n",
        "    [258.0, 270.0, 294.0, 320.0, 342.0, 368.0, 396.0, 446.0, 480.0, 586.0]\n",
        ")[:, np.newaxis]\n",
        "\n",
        "y = np.array(\n",
        "    [236.4, 234.4, 252.8, 298.6, 314.2, 342.2, 360.8, 368.0, 391.2, 390.8]\n",
        ")"
      ],
      "metadata": {
        "id": "gODE3EHc4snV"
      },
      "execution_count": 2,
      "outputs": []
    },
    {
      "cell_type": "markdown",
      "source": [
        "Un consejo, las nomenclaturas de las variables son libres, pero se recomienda que sean coherentes, por ejemplo, a veces se les llama X (en mayúscula) e y, otras veces features and labels (o targets).\n",
        "\n",
        "Lo que te recomiendo es que elijas la tuya y escribas tu código siendo coherente con ella, luego cuando tengas que buscar ***bugs*** y errores te harás menos lío.\n",
        "\n",
        "Yo voy a usar X e y en esta práctica."
      ],
      "metadata": {
        "id": "MJ8k4UfD5cl9"
      }
    },
    {
      "cell_type": "code",
      "source": [
        "# Comprobamos que se han creado bien\n",
        "\n",
        "print(X)\n",
        "print(y)"
      ],
      "metadata": {
        "id": "jSiFcOK6nOft"
      },
      "execution_count": null,
      "outputs": []
    },
    {
      "cell_type": "markdown",
      "source": [
        "Fíjate que y es un vector pero X es una matriz de 10 filas y una columna."
      ],
      "metadata": {
        "id": "GK7_L16c6GyN"
      }
    },
    {
      "cell_type": "code",
      "source": [
        "# Ploteamos X e y\n",
        "\n",
        "plt.scatter(X, y)\n",
        "plt.xlabel(\"X\")\n",
        "plt.ylabel(\"y\")\n",
        "plt.show()"
      ],
      "metadata": {
        "id": "U3pQp1vZjlDE",
        "colab": {
          "base_uri": "https://localhost:8080/",
          "height": 449
        },
        "outputId": "2b75b9f3-3175-490d-e04e-df0574c53713"
      },
      "execution_count": 3,
      "outputs": [
        {
          "output_type": "display_data",
          "data": {
            "text/plain": [
              "<Figure size 640x480 with 1 Axes>"
            ],
            "image/png": "[encoded data removed]"
          },
          "metadata": {}
        }
      ]
    },
    {
      "cell_type": "code",
      "source": [
        "# Vamos a utilizar la funcion LinearRegression del paquete sklearn para calcular la recta a esos puntos\n",
        "\n",
        "from sklearn.linear_model import LinearRegression\n",
        "\n",
        "lr = LinearRegression()\n",
        "lr.fit(X, y)\n",
        "\n",
        "# create predictions for plotting\n",
        "X_range = np.arange(250, 600, 10)[:, np.newaxis] # de nuevo creamos una matrix nx1 en vez de un vector\n",
        "y_linear = lr.predict(X_range)"
      ],
      "metadata": {
        "id": "2PXViEW7jlF9"
      },
      "execution_count": 4,
      "outputs": []
    },
    {
      "cell_type": "code",
      "source": [
        "# Dibujamos tanto los puntos como la recta\n",
        "\n",
        "plt.scatter(X, y, label=\"Datos\")\n",
        "plt.plot(X_range, y_linear, label=\"Regresión Lineal\", linestyle=\"--\", color=\"orange\")\n",
        "plt.legend()\n",
        "plt.show()"
      ],
      "metadata": {
        "id": "O_HdgKQpjlJX",
        "colab": {
          "base_uri": "https://localhost:8080/",
          "height": 430
        },
        "outputId": "63381b8f-64a0-4d0a-f201-766ff1a95fc1"
      },
      "execution_count": 5,
      "outputs": [
        {
          "output_type": "display_data",
          "data": {
            "text/plain": [
              "<Figure size 640x480 with 1 Axes>"
            ],
            "image/png": "[encoded data removed]"
          },
          "metadata": {}
        }
      ]
    },
    {
      "cell_type": "markdown",
      "source": [
        "Ya tenemos los datos y la predicción que se puede hacer con una recta de regresión, ahora vamos a construir una MLP para ver cómo mejoramos la predicción."
      ],
      "metadata": {
        "id": "ERj0iplP7wfU"
      }
    },
    {
      "cell_type": "markdown",
      "source": [
        "## Vamos a preparar los datos\n",
        "\n",
        "- Lo primero es hacer la normalización de X e y\n",
        "- Luego se crea un dataset formado por tensores y que sea iterable\n",
        "\n",
        "**Respecto a la normalización:**\n",
        "\n",
        "- En Keras la estrategia es normalizar X y dejar y en su escala, poniendo una función de activación lineal que reescale desde los pesos de la red a la escala original de y\n",
        "- En pytorch no se recomienda, se elimina esa última capa y se deja en la misma escala que los pesos. Posteriormente, cuando se termina de entrenar, se devuelven las predicciones a la misma escala\n",
        "\n",
        "**Respecto a la construcción del dataset:**\n",
        "\n",
        "- Ahora viene una parte extraña, como pytorch tiene que usar tensores y nosotros hemos creados los datos usando numpy hay que convertirlos. Para ello se usa la funcion ***TensorDataset***\n",
        "- Además, es necesario hacer que nuestros datos sean iterables, es decir, que puedan utilizarse uno a uno por la red para entrenarla, esto se hace con la función ***DataLoader***\n",
        "\n",
        "Ambas funciones tienen su complejidad (manejar los datos es más complejo que estimar la red) y poco a poco aprenderemos a sacarles más provecho."
      ],
      "metadata": {
        "id": "o-WcfZqvPgfz"
      }
    },
    {
      "cell_type": "code",
      "source": [
        "# preparamos los datos\n",
        "\n",
        "from torch.utils.data import TensorDataset, DataLoader\n",
        "\n",
        "# Normalizamos X e y\n",
        "x_mean, x_std = X.mean(), X.std()\n",
        "y_mean, y_std = y.mean(), y.std()\n",
        "\n",
        "X_norm = (X - x_mean) / x_std\n",
        "y_norm = (y - y_mean) / y_std\n",
        "\n",
        "# Pasamos las variables a tensores\n",
        "tensor_X = torch.Tensor(X_norm) # transform to torch tensor\n",
        "tensor_y = torch.Tensor(y_norm)\n",
        "\n",
        "# Creamos el dataset y el dataloader\n",
        "my_dataset = TensorDataset(tensor_X,tensor_y) # create your datset\n",
        "my_dataloader = DataLoader(my_dataset) # create your dataloader"
      ],
      "metadata": {
        "id": "gYy5YRF5E13F"
      },
      "execution_count": 6,
      "outputs": []
    },
    {
      "cell_type": "markdown",
      "source": [
        "## Ahora vamos a definir la red\n",
        "\n",
        "Es una red cutrecilla\n",
        "\n",
        "Definimos la red como una clase, es lo recomendado\n",
        "vamos a crear una red con:\n",
        "- Una entrada con las dimensiones de X\n",
        "- Una única capa con una neurona\n",
        "- Una de salida con una unica neurona sin activación\n"
      ],
      "metadata": {
        "id": "ftxdAn3PQzYy"
      }
    },
    {
      "cell_type": "code",
      "source": [
        "# Definimos la red como una clase, es lo recomendado\n",
        "# vamos a crear una red con:\n",
        "#   - Una entrada con las dimensiones de X\n",
        "#   - Una capa oculta de 1 neurona\n",
        "#   - Una de salida con una unica neurona sin activación\n",
        "\n",
        "\n",
        "class MLP(torch.nn.Module):\n",
        "    def __init__(self, X_nvars):\n",
        "        super().__init__()\n",
        "\n",
        "        self.layers = torch.nn.Sequential(\n",
        "\n",
        "            # Hidden Layer 1\n",
        "            torch.nn.Linear(X_nvars, 1), # Hacemos el sumatorio\n",
        "            torch.nn.ReLU(),              # Aplicamos la función de activacion\n",
        "\n",
        "            # output layer\n",
        "            torch.nn.Linear(1, 1),\n",
        "        )\n",
        "\n",
        "    def forward(self, x):\n",
        "        output = self.layers(x)\n",
        "        return output"
      ],
      "metadata": {
        "id": "dws5pLO8jlVO"
      },
      "execution_count": 7,
      "outputs": []
    },
    {
      "cell_type": "markdown",
      "source": [
        "## Creamos la red y definimos los Hiper-parámetros"
      ],
      "metadata": {
        "id": "vCoLwxjKRjdV"
      }
    },
    {
      "cell_type": "code",
      "source": [
        "# Fijamos la semilla a un valor para que los resultados sean identicos\n",
        "torch.manual_seed(1)\n",
        "\n",
        "# Ahora fijamos algunos hiper-parámetros\n",
        "\n",
        "# Creamos el modelo MLP\n",
        "model = MLP(X_nvars=1)\n",
        "\n",
        "# Definimos la función loss\n",
        "loss_fn = torch.nn.MSELoss()\n",
        "\n",
        "# Elegimos el optimizador\n",
        "optimizer = torch.optim.SGD(model.parameters(), lr=0.1)\n"
      ],
      "metadata": {
        "id": "MR89kZ2LRnsC"
      },
      "execution_count": 14,
      "outputs": []
    },
    {
      "cell_type": "markdown",
      "source": [
        "## Ahora hacemos el entrenamiento de la red"
      ],
      "metadata": {
        "id": "WyC7sP-sRsQo"
      }
    },
    {
      "cell_type": "code",
      "source": [
        "import torch.nn.functional as F\n",
        "\n",
        "# Fijamos el número de épocas o iteraciones\n",
        "num_epochs = 200\n",
        "\n",
        "# Una variables donde vamos a ir guardando los valores del loss para ploterarlos\n",
        "loss_history = []\n",
        "\n",
        "for epoch in range(num_epochs):\n",
        "    model = model.train() # se fijan algunas cosas para hacer entrenamiento\n",
        "\n",
        "    # En esta parte se define el batch\n",
        "    # No te preocupes que aún no sabemos qué es\n",
        "    # MUY IMPORTANTE, nunca uses el mismo nombre que tus datos o los sobreescribe\n",
        "    for batch_idx, (features, targets) in enumerate(my_dataloader):\n",
        "\n",
        "        output = model(features)            # Hacemos el forward\n",
        "        loss = loss_fn(output, targets)     # Calculamos el loss\n",
        "\n",
        "        optimizer.zero_grad()        # Ponemos a cero el gradiente\n",
        "        loss.backward()              # Calculamos los gradientes (la derivada del loss)\n",
        "        optimizer.step()             # Cambiamos los pesos de la red\n",
        "\n",
        "        # Cada cierto tiempo vamos a imprimir un poco de información\n",
        "        # para saber qué está pasando\n",
        "        if not batch_idx % 100:\n",
        "            print(\n",
        "                f\"Epoch: {epoch+1:03d}/{num_epochs:03d}\"\n",
        "                # f\" | Batch {batch_idx:03d}/{len(train_loader):03d}\"\n",
        "                f\" | Batch {batch_idx:03d}/{len(my_dataloader):03d}\"\n",
        "                f\" | Train Loss: {loss.item():.2f}\"\n",
        "            )\n",
        "        # añadimos el loss a loss_history\n",
        "    loss_history.append(loss.item())"
      ],
      "metadata": {
        "id": "Rfv-HTIkkZ4D",
        "colab": {
          "base_uri": "https://localhost:8080/",
          "height": 363
        },
        "collapsed": true,
        "outputId": "d0ac939c-10b1-4625-84b6-3e11de206e17"
      },
      "execution_count": 16,
      "outputs": [
        {
          "output_type": "error",
          "ename": "RuntimeError",
          "evalue": "mat1 and mat2 shapes cannot be multiplied (1x1 and 20x20)",
          "traceback": [
            "\u001b[0;31m---------------------------------------------------------------------------\u001b[0m",
            "\u001b[0;31mRuntimeError\u001b[0m                              Traceback (most recent call last)",
            "\u001b[0;32m<ipython-input-16-f4b4c521c02b>\u001b[0m in \u001b[0;36m<cell line: 0>\u001b[0;34m()\u001b[0m\n\u001b[1;32m     15\u001b[0m     \u001b[0;32mfor\u001b[0m \u001b[0mbatch_idx\u001b[0m\u001b[0;34m,\u001b[0m \u001b[0;34m(\u001b[0m\u001b[0mfeatures\u001b[0m\u001b[0;34m,\u001b[0m \u001b[0mtargets\u001b[0m\u001b[0;34m)\u001b[0m \u001b[0;32min\u001b[0m \u001b[0menumerate\u001b[0m\u001b[0;34m(\u001b[0m\u001b[0mmy_dataloader\u001b[0m\u001b[0;34m)\u001b[0m\u001b[0;34m:\u001b[0m\u001b[0;34m\u001b[0m\u001b[0;34m\u001b[0m\u001b[0m\n\u001b[1;32m     16\u001b[0m \u001b[0;34m\u001b[0m\u001b[0m\n\u001b[0;32m---> 17\u001b[0;31m         \u001b[0moutput\u001b[0m \u001b[0;34m=\u001b[0m \u001b[0mmodel\u001b[0m\u001b[0;34m(\u001b[0m\u001b[0mfeatures\u001b[0m\u001b[0;34m)\u001b[0m            \u001b[0;31m# Hacemos el forward\u001b[0m\u001b[0;34m\u001b[0m\u001b[0;34m\u001b[0m\u001b[0m\n\u001b[0m\u001b[1;32m     18\u001b[0m         \u001b[0mloss\u001b[0m \u001b[0;34m=\u001b[0m \u001b[0mloss_fn\u001b[0m\u001b[0;34m(\u001b[0m\u001b[0moutput\u001b[0m\u001b[0;34m,\u001b[0m \u001b[0mtargets\u001b[0m\u001b[0;34m)\u001b[0m     \u001b[0;31m# Calculamos el loss\u001b[0m\u001b[0;34m\u001b[0m\u001b[0;34m\u001b[0m\u001b[0m\n\u001b[1;32m     19\u001b[0m \u001b[0;34m\u001b[0m\u001b[0m\n",
            "\u001b[0;32m/usr/local/lib/python3.11/dist-packages/torch/nn/modules/module.py\u001b[0m in \u001b[0;36m_wrapped_call_impl\u001b[0;34m(self, *args, **kwargs)\u001b[0m\n\u001b[1;32m   1734\u001b[0m             \u001b[0;32mreturn\u001b[0m \u001b[0mself\u001b[0m\u001b[0;34m.\u001b[0m\u001b[0m_compiled_call_impl\u001b[0m\u001b[0;34m(\u001b[0m\u001b[0;34m*\u001b[0m\u001b[0margs\u001b[0m\u001b[0;34m,\u001b[0m \u001b[0;34m**\u001b[0m\u001b[0mkwargs\u001b[0m\u001b[0;34m)\u001b[0m  \u001b[0;31m# type: ignore[misc]\u001b[0m\u001b[0;34m\u001b[0m\u001b[0;34m\u001b[0m\u001b[0m\n\u001b[1;32m   1735\u001b[0m         \u001b[0;32melse\u001b[0m\u001b[0;34m:\u001b[0m\u001b[0;34m\u001b[0m\u001b[0;34m\u001b[0m\u001b[0m\n\u001b[0;32m-> 1736\u001b[0;31m             \u001b[0;32mreturn\u001b[0m \u001b[0mself\u001b[0m\u001b[0;34m.\u001b[0m\u001b[0m_call_impl\u001b[0m\u001b[0;34m(\u001b[0m\u001b[0;34m*\u001b[0m\u001b[0margs\u001b[0m\u001b[0;34m,\u001b[0m \u001b[0;34m**\u001b[0m\u001b[0mkwargs\u001b[0m\u001b[0;34m)\u001b[0m\u001b[0;34m\u001b[0m\u001b[0;34m\u001b[0m\u001b[0m\n\u001b[0m\u001b[1;32m   1737\u001b[0m \u001b[0;34m\u001b[0m\u001b[0m\n\u001b[1;32m   1738\u001b[0m     \u001b[0;31m# torchrec tests the code consistency with the following code\u001b[0m\u001b[0;34m\u001b[0m\u001b[0;34m\u001b[0m\u001b[0m\n",
            "\u001b[0;32m/usr/local/lib/python3.11/dist-packages/torch/nn/modules/module.py\u001b[0m in \u001b[0;36m_call_impl\u001b[0;34m(self, *args, **kwargs)\u001b[0m\n\u001b[1;32m   1745\u001b[0m                 \u001b[0;32mor\u001b[0m \u001b[0m_global_backward_pre_hooks\u001b[0m \u001b[0;32mor\u001b[0m \u001b[0m_global_backward_hooks\u001b[0m\u001b[0;34m\u001b[0m\u001b[0;34m\u001b[0m\u001b[0m\n\u001b[1;32m   1746\u001b[0m                 or _global_forward_hooks or _global_forward_pre_hooks):\n\u001b[0;32m-> 1747\u001b[0;31m             \u001b[0;32mreturn\u001b[0m \u001b[0mforward_call\u001b[0m\u001b[0;34m(\u001b[0m\u001b[0;34m*\u001b[0m\u001b[0margs\u001b[0m\u001b[0;34m,\u001b[0m \u001b[0;34m**\u001b[0m\u001b[0mkwargs\u001b[0m\u001b[0;34m)\u001b[0m\u001b[0;34m\u001b[0m\u001b[0;34m\u001b[0m\u001b[0m\n\u001b[0m\u001b[1;32m   1748\u001b[0m \u001b[0;34m\u001b[0m\u001b[0m\n\u001b[1;32m   1749\u001b[0m         \u001b[0mresult\u001b[0m \u001b[0;34m=\u001b[0m \u001b[0;32mNone\u001b[0m\u001b[0;34m\u001b[0m\u001b[0;34m\u001b[0m\u001b[0m\n",
            "\u001b[0;32m<ipython-input-13-5d21d8524925>\u001b[0m in \u001b[0;36mforward\u001b[0;34m(self, x)\u001b[0m\n\u001b[1;32m     16\u001b[0m \u001b[0;34m\u001b[0m\u001b[0m\n\u001b[1;32m     17\u001b[0m     \u001b[0;32mdef\u001b[0m \u001b[0mforward\u001b[0m\u001b[0;34m(\u001b[0m\u001b[0mself\u001b[0m\u001b[0;34m,\u001b[0m \u001b[0mx\u001b[0m\u001b[0;34m)\u001b[0m\u001b[0;34m:\u001b[0m\u001b[0;34m\u001b[0m\u001b[0;34m\u001b[0m\u001b[0m\n\u001b[0;32m---> 18\u001b[0;31m         \u001b[0;32mreturn\u001b[0m \u001b[0mself\u001b[0m\u001b[0;34m.\u001b[0m\u001b[0mlayers\u001b[0m\u001b[0;34m(\u001b[0m\u001b[0mx\u001b[0m\u001b[0;34m)\u001b[0m\u001b[0;34m\u001b[0m\u001b[0;34m\u001b[0m\u001b[0m\n\u001b[0m",
            "\u001b[0;32m/usr/local/lib/python3.11/dist-packages/torch/nn/modules/module.py\u001b[0m in \u001b[0;36m_wrapped_call_impl\u001b[0;34m(self, *args, **kwargs)\u001b[0m\n\u001b[1;32m   1734\u001b[0m             \u001b[0;32mreturn\u001b[0m \u001b[0mself\u001b[0m\u001b[0;34m.\u001b[0m\u001b[0m_compiled_call_impl\u001b[0m\u001b[0;34m(\u001b[0m\u001b[0;34m*\u001b[0m\u001b[0margs\u001b[0m\u001b[0;34m,\u001b[0m \u001b[0;34m**\u001b[0m\u001b[0mkwargs\u001b[0m\u001b[0;34m)\u001b[0m  \u001b[0;31m# type: ignore[misc]\u001b[0m\u001b[0;34m\u001b[0m\u001b[0;34m\u001b[0m\u001b[0m\n\u001b[1;32m   1735\u001b[0m         \u001b[0;32melse\u001b[0m\u001b[0;34m:\u001b[0m\u001b[0;34m\u001b[0m\u001b[0;34m\u001b[0m\u001b[0m\n\u001b[0;32m-> 1736\u001b[0;31m             \u001b[0;32mreturn\u001b[0m \u001b[0mself\u001b[0m\u001b[0;34m.\u001b[0m\u001b[0m_call_impl\u001b[0m\u001b[0;34m(\u001b[0m\u001b[0;34m*\u001b[0m\u001b[0margs\u001b[0m\u001b[0;34m,\u001b[0m \u001b[0;34m**\u001b[0m\u001b[0mkwargs\u001b[0m\u001b[0;34m)\u001b[0m\u001b[0;34m\u001b[0m\u001b[0;34m\u001b[0m\u001b[0m\n\u001b[0m\u001b[1;32m   1737\u001b[0m \u001b[0;34m\u001b[0m\u001b[0m\n\u001b[1;32m   1738\u001b[0m     \u001b[0;31m# torchrec tests the code consistency with the following code\u001b[0m\u001b[0;34m\u001b[0m\u001b[0;34m\u001b[0m\u001b[0m\n",
            "\u001b[0;32m/usr/local/lib/python3.11/dist-packages/torch/nn/modules/module.py\u001b[0m in \u001b[0;36m_call_impl\u001b[0;34m(self, *args, **kwargs)\u001b[0m\n\u001b[1;32m   1745\u001b[0m                 \u001b[0;32mor\u001b[0m \u001b[0m_global_backward_pre_hooks\u001b[0m \u001b[0;32mor\u001b[0m \u001b[0m_global_backward_hooks\u001b[0m\u001b[0;34m\u001b[0m\u001b[0;34m\u001b[0m\u001b[0m\n\u001b[1;32m   1746\u001b[0m                 or _global_forward_hooks or _global_forward_pre_hooks):\n\u001b[0;32m-> 1747\u001b[0;31m             \u001b[0;32mreturn\u001b[0m \u001b[0mforward_call\u001b[0m\u001b[0;34m(\u001b[0m\u001b[0;34m*\u001b[0m\u001b[0margs\u001b[0m\u001b[0;34m,\u001b[0m \u001b[0;34m**\u001b[0m\u001b[0mkwargs\u001b[0m\u001b[0;34m)\u001b[0m\u001b[0;34m\u001b[0m\u001b[0;34m\u001b[0m\u001b[0m\n\u001b[0m\u001b[1;32m   1748\u001b[0m \u001b[0;34m\u001b[0m\u001b[0m\n\u001b[1;32m   1749\u001b[0m         \u001b[0mresult\u001b[0m \u001b[0;34m=\u001b[0m \u001b[0;32mNone\u001b[0m\u001b[0;34m\u001b[0m\u001b[0;34m\u001b[0m\u001b[0m\n",
            "\u001b[0;32m/usr/local/lib/python3.11/dist-packages/torch/nn/modules/container.py\u001b[0m in \u001b[0;36mforward\u001b[0;34m(self, input)\u001b[0m\n\u001b[1;32m    248\u001b[0m     \u001b[0;32mdef\u001b[0m \u001b[0mforward\u001b[0m\u001b[0;34m(\u001b[0m\u001b[0mself\u001b[0m\u001b[0;34m,\u001b[0m \u001b[0minput\u001b[0m\u001b[0;34m)\u001b[0m\u001b[0;34m:\u001b[0m\u001b[0;34m\u001b[0m\u001b[0;34m\u001b[0m\u001b[0m\n\u001b[1;32m    249\u001b[0m         \u001b[0;32mfor\u001b[0m \u001b[0mmodule\u001b[0m \u001b[0;32min\u001b[0m \u001b[0mself\u001b[0m\u001b[0;34m:\u001b[0m\u001b[0;34m\u001b[0m\u001b[0;34m\u001b[0m\u001b[0m\n\u001b[0;32m--> 250\u001b[0;31m             \u001b[0minput\u001b[0m \u001b[0;34m=\u001b[0m \u001b[0mmodule\u001b[0m\u001b[0;34m(\u001b[0m\u001b[0minput\u001b[0m\u001b[0;34m)\u001b[0m\u001b[0;34m\u001b[0m\u001b[0;34m\u001b[0m\u001b[0m\n\u001b[0m\u001b[1;32m    251\u001b[0m         \u001b[0;32mreturn\u001b[0m \u001b[0minput\u001b[0m\u001b[0;34m\u001b[0m\u001b[0;34m\u001b[0m\u001b[0m\n\u001b[1;32m    252\u001b[0m \u001b[0;34m\u001b[0m\u001b[0m\n",
            "\u001b[0;32m/usr/local/lib/python3.11/dist-packages/torch/nn/modules/module.py\u001b[0m in \u001b[0;36m_wrapped_call_impl\u001b[0;34m(self, *args, **kwargs)\u001b[0m\n\u001b[1;32m   1734\u001b[0m             \u001b[0;32mreturn\u001b[0m \u001b[0mself\u001b[0m\u001b[0;34m.\u001b[0m\u001b[0m_compiled_call_impl\u001b[0m\u001b[0;34m(\u001b[0m\u001b[0;34m*\u001b[0m\u001b[0margs\u001b[0m\u001b[0;34m,\u001b[0m \u001b[0;34m**\u001b[0m\u001b[0mkwargs\u001b[0m\u001b[0;34m)\u001b[0m  \u001b[0;31m# type: ignore[misc]\u001b[0m\u001b[0;34m\u001b[0m\u001b[0;34m\u001b[0m\u001b[0m\n\u001b[1;32m   1735\u001b[0m         \u001b[0;32melse\u001b[0m\u001b[0;34m:\u001b[0m\u001b[0;34m\u001b[0m\u001b[0;34m\u001b[0m\u001b[0m\n\u001b[0;32m-> 1736\u001b[0;31m             \u001b[0;32mreturn\u001b[0m \u001b[0mself\u001b[0m\u001b[0;34m.\u001b[0m\u001b[0m_call_impl\u001b[0m\u001b[0;34m(\u001b[0m\u001b[0;34m*\u001b[0m\u001b[0margs\u001b[0m\u001b[0;34m,\u001b[0m \u001b[0;34m**\u001b[0m\u001b[0mkwargs\u001b[0m\u001b[0;34m)\u001b[0m\u001b[0;34m\u001b[0m\u001b[0;34m\u001b[0m\u001b[0m\n\u001b[0m\u001b[1;32m   1737\u001b[0m \u001b[0;34m\u001b[0m\u001b[0m\n\u001b[1;32m   1738\u001b[0m     \u001b[0;31m# torchrec tests the code consistency with the following code\u001b[0m\u001b[0;34m\u001b[0m\u001b[0;34m\u001b[0m\u001b[0m\n",
            "\u001b[0;32m/usr/local/lib/python3.11/dist-packages/torch/nn/modules/module.py\u001b[0m in \u001b[0;36m_call_impl\u001b[0;34m(self, *args, **kwargs)\u001b[0m\n\u001b[1;32m   1745\u001b[0m                 \u001b[0;32mor\u001b[0m \u001b[0m_global_backward_pre_hooks\u001b[0m \u001b[0;32mor\u001b[0m \u001b[0m_global_backward_hooks\u001b[0m\u001b[0;34m\u001b[0m\u001b[0;34m\u001b[0m\u001b[0m\n\u001b[1;32m   1746\u001b[0m                 or _global_forward_hooks or _global_forward_pre_hooks):\n\u001b[0;32m-> 1747\u001b[0;31m             \u001b[0;32mreturn\u001b[0m \u001b[0mforward_call\u001b[0m\u001b[0;34m(\u001b[0m\u001b[0;34m*\u001b[0m\u001b[0margs\u001b[0m\u001b[0;34m,\u001b[0m \u001b[0;34m**\u001b[0m\u001b[0mkwargs\u001b[0m\u001b[0;34m)\u001b[0m\u001b[0;34m\u001b[0m\u001b[0;34m\u001b[0m\u001b[0m\n\u001b[0m\u001b[1;32m   1748\u001b[0m \u001b[0;34m\u001b[0m\u001b[0m\n\u001b[1;32m   1749\u001b[0m         \u001b[0mresult\u001b[0m \u001b[0;34m=\u001b[0m \u001b[0;32mNone\u001b[0m\u001b[0;34m\u001b[0m\u001b[0;34m\u001b[0m\u001b[0m\n",
            "\u001b[0;32m/usr/local/lib/python3.11/dist-packages/torch/nn/modules/linear.py\u001b[0m in \u001b[0;36mforward\u001b[0;34m(self, input)\u001b[0m\n\u001b[1;32m    123\u001b[0m \u001b[0;34m\u001b[0m\u001b[0m\n\u001b[1;32m    124\u001b[0m     \u001b[0;32mdef\u001b[0m \u001b[0mforward\u001b[0m\u001b[0;34m(\u001b[0m\u001b[0mself\u001b[0m\u001b[0;34m,\u001b[0m \u001b[0minput\u001b[0m\u001b[0;34m:\u001b[0m \u001b[0mTensor\u001b[0m\u001b[0;34m)\u001b[0m \u001b[0;34m->\u001b[0m \u001b[0mTensor\u001b[0m\u001b[0;34m:\u001b[0m\u001b[0;34m\u001b[0m\u001b[0;34m\u001b[0m\u001b[0m\n\u001b[0;32m--> 125\u001b[0;31m         \u001b[0;32mreturn\u001b[0m \u001b[0mF\u001b[0m\u001b[0;34m.\u001b[0m\u001b[0mlinear\u001b[0m\u001b[0;34m(\u001b[0m\u001b[0minput\u001b[0m\u001b[0;34m,\u001b[0m \u001b[0mself\u001b[0m\u001b[0;34m.\u001b[0m\u001b[0mweight\u001b[0m\u001b[0;34m,\u001b[0m \u001b[0mself\u001b[0m\u001b[0;34m.\u001b[0m\u001b[0mbias\u001b[0m\u001b[0;34m)\u001b[0m\u001b[0;34m\u001b[0m\u001b[0;34m\u001b[0m\u001b[0m\n\u001b[0m\u001b[1;32m    126\u001b[0m \u001b[0;34m\u001b[0m\u001b[0m\n\u001b[1;32m    127\u001b[0m     \u001b[0;32mdef\u001b[0m \u001b[0mextra_repr\u001b[0m\u001b[0;34m(\u001b[0m\u001b[0mself\u001b[0m\u001b[0;34m)\u001b[0m \u001b[0;34m->\u001b[0m \u001b[0mstr\u001b[0m\u001b[0;34m:\u001b[0m\u001b[0;34m\u001b[0m\u001b[0;34m\u001b[0m\u001b[0m\n",
            "\u001b[0;31mRuntimeError\u001b[0m: mat1 and mat2 shapes cannot be multiplied (1x1 and 20x20)"
          ]
        }
      ]
    },
    {
      "cell_type": "code",
      "source": [
        "# Vamos a hacer un plot del loss, a ver qué ha pasado\n",
        "\n",
        "plt.plot(loss_history)"
      ],
      "metadata": {
        "id": "AEa-Nky9SJQp",
        "colab": {
          "base_uri": "https://localhost:8080/",
          "height": 448
        },
        "outputId": "19285658-eb65-4b7a-c804-6417e110ceb0"
      },
      "execution_count": 23,
      "outputs": [
        {
          "output_type": "execute_result",
          "data": {
            "text/plain": [
              "[<matplotlib.lines.Line2D at 0x793242fe79d0>]"
            ]
          },
          "metadata": {},
          "execution_count": 23
        },
        {
          "output_type": "display_data",
          "data": {
            "text/plain": [
              "<Figure size 640x480 with 1 Axes>"
            ],
            "image/png": "[encoded data removed]"
          },
          "metadata": {}
        }
      ]
    },
    {
      "cell_type": "code",
      "source": [
        "# Vamos a evaluar el funcionamiento del modelo\n",
        "\n",
        "model.eval() # se fijan parametros del modelo para evaluar\n",
        "\n",
        "# predecimos los valores del rango X_range segun el MLP\n",
        "\n",
        "# Se pasan a un tensor normalizado\n",
        "X_range_norm = (X_range - x_mean) / x_std\n",
        "X_range_norm = torch.tensor(X_range_norm, dtype=torch.float32)\n",
        "\n",
        "# Se meten en el modelo\n",
        "y_mlp_norm = model(X_range_norm)\n",
        "\n",
        "# Ahora se desnormalizan para que estén en la misma escala\n",
        "y_mlp_norm = y_mlp_norm.detach().numpy().astype(np.float64) # dejan de ser un tensor\n",
        "y_mlp = y_mlp_norm * y_std + y_mean # desnormalizan\n"
      ],
      "metadata": {
        "id": "-50YJNpxkZ7T"
      },
      "execution_count": 25,
      "outputs": []
    },
    {
      "cell_type": "code",
      "source": [
        "# Vamos a hacer un plot con los resultados\n",
        "\n",
        "# Los datos originales\n",
        "plt.scatter(X, y, label=\"Datos\")\n",
        "\n",
        "# Los datos predichos por la regresion lineal\n",
        "plt.plot(X_range, y_linear, label=\"Regresión lineal\", linestyle=\"--\", color='green')\n",
        "\n",
        "# Los datos predichos por el MLP\n",
        "plt.plot(X_range, y_mlp, label=\"MLP\", color='orange')\n",
        "\n",
        "plt.xlabel(\"X\")\n",
        "plt.ylabel(\"y\")\n",
        "plt.legend()\n",
        "plt.show()"
      ],
      "metadata": {
        "id": "YDi34cz6kZ-o",
        "colab": {
          "base_uri": "https://localhost:8080/",
          "height": 449
        },
        "outputId": "0954d68e-11a0-48a6-8fa5-c243ab49429b"
      },
      "execution_count": 27,
      "outputs": [
        {
          "output_type": "display_data",
          "data": {
            "text/plain": [
              "<Figure size 640x480 with 1 Axes>"
            ],
            "image/png": "[encoded data removed]"
          },
          "metadata": {}
        }
      ]
    },
    {
      "cell_type": "markdown",
      "source": [
        "---\n",
        "# Ejercicios\n",
        "\n",
        "Crea un notebook de colab con las soluciones a los ejercicios, hazlo público y sube el enlace al campus virtual\n",
        "\n",
        "\n"
      ],
      "metadata": {
        "id": "oimmspJebcAQ"
      }
    },
    {
      "cell_type": "markdown",
      "source": [
        "### 01. Ejercicio 1\n",
        "\n",
        "Con los datos de este ejemplo crea una red neuronal que sea capaz de generar un error de cero (es decir, la linea de MLP atraviesa todos los puntos)."
      ],
      "metadata": {
        "id": "zMNbEOAPq_ab"
      }
    },
    {
      "cell_type": "code",
      "source": [
        "class MLP(torch.nn.Module):\n",
        "    def __init__(self, X_nvars):\n",
        "        super().__init__()\n",
        "        self.layers = torch.nn.Sequential(\n",
        "            # Capa oculta 1 (mayor capacidad)\n",
        "            torch.nn.Linear(X_nvars, 50),\n",
        "            torch.nn.Tanh(),\n",
        "\n",
        "            # Capa oculta 2 (no linealidad adicional)\n",
        "            torch.nn.Linear(50, 40),\n",
        "            torch.nn.Tanh(),\n",
        "\n",
        "            # Capa oculta 3 (no linealidad adicional)\n",
        "            torch.nn.Linear(40, 25),\n",
        "            torch.nn.Tanh(),\n",
        "\n",
        "            # Capa oculta 4 (no linealidad adicional)\n",
        "            torch.nn.Linear(25, 10),\n",
        "            torch.nn.Tanh(),\n",
        "\n",
        "            # Capa de salida\n",
        "            torch.nn.Linear(10, 1)\n",
        "        )\n",
        "\n",
        "    def forward(self, x):\n",
        "        return self.layers(x)"
      ],
      "metadata": {
        "id": "S84Jg2cbmsTv"
      },
      "execution_count": 62,
      "outputs": []
    },
    {
      "cell_type": "markdown",
      "source": [
        "Definimos los hiperparámetros"
      ],
      "metadata": {
        "id": "367BIj2cnnde"
      }
    },
    {
      "cell_type": "code",
      "source": [
        "# Fijamos la semilla a un valor para que los resultados sean identicos\n",
        "torch.manual_seed(1)\n",
        "\n",
        "# Ahora fijamos algunos hiper-parámetros\n",
        "\n",
        "# Creamos el modelo MLP\n",
        "model = MLP(X_nvars=1)\n",
        "\n",
        "# Definimos la función loss\n",
        "loss_fn = torch.nn.MSELoss()\n",
        "\n",
        "# Elegimos el optimizador\n",
        "optimizer = torch.optim.Adam(model.parameters(), lr=0.001)"
      ],
      "metadata": {
        "id": "XyVlDNX0nnNa"
      },
      "execution_count": 65,
      "outputs": []
    },
    {
      "cell_type": "markdown",
      "source": [
        "Hacemos el entrenamiento"
      ],
      "metadata": {
        "id": "d8OllaEXn8UD"
      }
    },
    {
      "cell_type": "code",
      "source": [
        "import torch.nn.functional as F\n",
        "\n",
        "# Fijamos el número de épocas o iteraciones\n",
        "num_epochs = 200\n",
        "\n",
        "# Una variables donde vamos a ir guardando los valores del loss para ploterarlos\n",
        "loss_history = []\n",
        "\n",
        "for epoch in range(num_epochs):\n",
        "    model = model.train() # se fijan algunas cosas para hacer entrenamiento\n",
        "\n",
        "    # En esta parte se define el batch\n",
        "    # No te preocupes que aún no sabemos qué es\n",
        "    # MUY IMPORTANTE, nunca uses el mismo nombre que tus datos o los sobreescribe\n",
        "    for batch_idx, (features, targets) in enumerate(my_dataloader):\n",
        "\n",
        "        output = model(features)            # Hacemos el forward\n",
        "        loss = loss_fn(output, targets)     # Calculamos el loss\n",
        "\n",
        "        optimizer.zero_grad()        # Ponemos a cero el gradiente\n",
        "        loss.backward()              # Calculamos los gradientes (la derivada del loss)\n",
        "        optimizer.step()             # Cambiamos los pesos de la red\n",
        "\n",
        "        # Cada cierto tiempo vamos a imprimir un poco de información\n",
        "        # para saber qué está pasando\n",
        "        if not batch_idx % 100:\n",
        "            print(\n",
        "                f\"Epoch: {epoch+1:03d}/{num_epochs:03d}\"\n",
        "                # f\" | Batch {batch_idx:03d}/{len(train_loader):03d}\"\n",
        "                f\" | Batch {batch_idx:03d}/{len(my_dataloader):03d}\"\n",
        "                f\" | Train Loss: {loss.item():.2f}\"\n",
        "            )\n",
        "        # añadimos el loss a loss_history\n",
        "    loss_history.append(loss.item())"
      ],
      "metadata": {
        "collapsed": true,
        "id": "2l0BwhvXn_aO",
        "outputId": "888183ab-a2c7-4703-dd2a-28d54c41380e",
        "colab": {
          "base_uri": "https://localhost:8080/"
        }
      },
      "execution_count": 76,
      "outputs": [
        {
          "output_type": "stream",
          "name": "stdout",
          "text": [
            "Epoch: 001/200 | Batch 000/010 | Train Loss: 0.00\n",
            "Epoch: 002/200 | Batch 000/010 | Train Loss: 0.00\n",
            "Epoch: 003/200 | Batch 000/010 | Train Loss: 0.00\n",
            "Epoch: 004/200 | Batch 000/010 | Train Loss: 0.00\n",
            "Epoch: 005/200 | Batch 000/010 | Train Loss: 0.00\n",
            "Epoch: 006/200 | Batch 000/010 | Train Loss: 0.00\n",
            "Epoch: 007/200 | Batch 000/010 | Train Loss: 0.00\n",
            "Epoch: 008/200 | Batch 000/010 | Train Loss: 0.00\n",
            "Epoch: 009/200 | Batch 000/010 | Train Loss: 0.00\n",
            "Epoch: 010/200 | Batch 000/010 | Train Loss: 0.00\n",
            "Epoch: 011/200 | Batch 000/010 | Train Loss: 0.00\n",
            "Epoch: 012/200 | Batch 000/010 | Train Loss: 0.00\n",
            "Epoch: 013/200 | Batch 000/010 | Train Loss: 0.00\n",
            "Epoch: 014/200 | Batch 000/010 | Train Loss: 0.00\n",
            "Epoch: 015/200 | Batch 000/010 | Train Loss: 0.00\n",
            "Epoch: 016/200 | Batch 000/010 | Train Loss: 0.00\n",
            "Epoch: 017/200 | Batch 000/010 | Train Loss: 0.00\n",
            "Epoch: 018/200 | Batch 000/010 | Train Loss: 0.00\n",
            "Epoch: 019/200 | Batch 000/010 | Train Loss: 0.00\n",
            "Epoch: 020/200 | Batch 000/010 | Train Loss: 0.00\n",
            "Epoch: 021/200 | Batch 000/010 | Train Loss: 0.00\n",
            "Epoch: 022/200 | Batch 000/010 | Train Loss: 0.00\n",
            "Epoch: 023/200 | Batch 000/010 | Train Loss: 0.00\n",
            "Epoch: 024/200 | Batch 000/010 | Train Loss: 0.00\n",
            "Epoch: 025/200 | Batch 000/010 | Train Loss: 0.00\n",
            "Epoch: 026/200 | Batch 000/010 | Train Loss: 0.00\n",
            "Epoch: 027/200 | Batch 000/010 | Train Loss: 0.00\n",
            "Epoch: 028/200 | Batch 000/010 | Train Loss: 0.00\n",
            "Epoch: 029/200 | Batch 000/010 | Train Loss: 0.00\n",
            "Epoch: 030/200 | Batch 000/010 | Train Loss: 0.00\n",
            "Epoch: 031/200 | Batch 000/010 | Train Loss: 0.00\n",
            "Epoch: 032/200 | Batch 000/010 | Train Loss: 0.00\n",
            "Epoch: 033/200 | Batch 000/010 | Train Loss: 0.00\n",
            "Epoch: 034/200 | Batch 000/010 | Train Loss: 0.00\n",
            "Epoch: 035/200 | Batch 000/010 | Train Loss: 0.00\n",
            "Epoch: 036/200 | Batch 000/010 | Train Loss: 0.00\n",
            "Epoch: 037/200 | Batch 000/010 | Train Loss: 0.00\n",
            "Epoch: 038/200 | Batch 000/010 | Train Loss: 0.00\n",
            "Epoch: 039/200 | Batch 000/010 | Train Loss: 0.00\n",
            "Epoch: 040/200 | Batch 000/010 | Train Loss: 0.00\n",
            "Epoch: 041/200 | Batch 000/010 | Train Loss: 0.00\n",
            "Epoch: 042/200 | Batch 000/010 | Train Loss: 0.00\n",
            "Epoch: 043/200 | Batch 000/010 | Train Loss: 0.00\n",
            "Epoch: 044/200 | Batch 000/010 | Train Loss: 0.00\n",
            "Epoch: 045/200 | Batch 000/010 | Train Loss: 0.00\n",
            "Epoch: 046/200 | Batch 000/010 | Train Loss: 0.00\n",
            "Epoch: 047/200 | Batch 000/010 | Train Loss: 0.00\n",
            "Epoch: 048/200 | Batch 000/010 | Train Loss: 0.00\n",
            "Epoch: 049/200 | Batch 000/010 | Train Loss: 0.00\n",
            "Epoch: 050/200 | Batch 000/010 | Train Loss: 0.00\n",
            "Epoch: 051/200 | Batch 000/010 | Train Loss: 0.00\n",
            "Epoch: 052/200 | Batch 000/010 | Train Loss: 0.00\n",
            "Epoch: 053/200 | Batch 000/010 | Train Loss: 0.00\n",
            "Epoch: 054/200 | Batch 000/010 | Train Loss: 0.00\n",
            "Epoch: 055/200 | Batch 000/010 | Train Loss: 0.00\n",
            "Epoch: 056/200 | Batch 000/010 | Train Loss: 0.00\n",
            "Epoch: 057/200 | Batch 000/010 | Train Loss: 0.00\n",
            "Epoch: 058/200 | Batch 000/010 | Train Loss: 0.00\n",
            "Epoch: 059/200 | Batch 000/010 | Train Loss: 0.00\n",
            "Epoch: 060/200 | Batch 000/010 | Train Loss: 0.00\n",
            "Epoch: 061/200 | Batch 000/010 | Train Loss: 0.00\n",
            "Epoch: 062/200 | Batch 000/010 | Train Loss: 0.00\n",
            "Epoch: 063/200 | Batch 000/010 | Train Loss: 0.00\n",
            "Epoch: 064/200 | Batch 000/010 | Train Loss: 0.00\n",
            "Epoch: 065/200 | Batch 000/010 | Train Loss: 0.00\n",
            "Epoch: 066/200 | Batch 000/010 | Train Loss: 0.00\n",
            "Epoch: 067/200 | Batch 000/010 | Train Loss: 0.00\n",
            "Epoch: 068/200 | Batch 000/010 | Train Loss: 0.00\n",
            "Epoch: 069/200 | Batch 000/010 | Train Loss: 0.00\n",
            "Epoch: 070/200 | Batch 000/010 | Train Loss: 0.00\n",
            "Epoch: 071/200 | Batch 000/010 | Train Loss: 0.00\n",
            "Epoch: 072/200 | Batch 000/010 | Train Loss: 0.00\n",
            "Epoch: 073/200 | Batch 000/010 | Train Loss: 0.00\n",
            "Epoch: 074/200 | Batch 000/010 | Train Loss: 0.00\n",
            "Epoch: 075/200 | Batch 000/010 | Train Loss: 0.00\n",
            "Epoch: 076/200 | Batch 000/010 | Train Loss: 0.00\n",
            "Epoch: 077/200 | Batch 000/010 | Train Loss: 0.00\n",
            "Epoch: 078/200 | Batch 000/010 | Train Loss: 0.00\n",
            "Epoch: 079/200 | Batch 000/010 | Train Loss: 0.00\n",
            "Epoch: 080/200 | Batch 000/010 | Train Loss: 0.00\n",
            "Epoch: 081/200 | Batch 000/010 | Train Loss: 0.00\n",
            "Epoch: 082/200 | Batch 000/010 | Train Loss: 0.00\n",
            "Epoch: 083/200 | Batch 000/010 | Train Loss: 0.00\n",
            "Epoch: 084/200 | Batch 000/010 | Train Loss: 0.00\n",
            "Epoch: 085/200 | Batch 000/010 | Train Loss: 0.00\n",
            "Epoch: 086/200 | Batch 000/010 | Train Loss: 0.00\n",
            "Epoch: 087/200 | Batch 000/010 | Train Loss: 0.00\n",
            "Epoch: 088/200 | Batch 000/010 | Train Loss: 0.00\n",
            "Epoch: 089/200 | Batch 000/010 | Train Loss: 0.00\n",
            "Epoch: 090/200 | Batch 000/010 | Train Loss: 0.00\n",
            "Epoch: 091/200 | Batch 000/010 | Train Loss: 0.00\n",
            "Epoch: 092/200 | Batch 000/010 | Train Loss: 0.00\n",
            "Epoch: 093/200 | Batch 000/010 | Train Loss: 0.00\n",
            "Epoch: 094/200 | Batch 000/010 | Train Loss: 0.00\n",
            "Epoch: 095/200 | Batch 000/010 | Train Loss: 0.00\n",
            "Epoch: 096/200 | Batch 000/010 | Train Loss: 0.00\n",
            "Epoch: 097/200 | Batch 000/010 | Train Loss: 0.00\n",
            "Epoch: 098/200 | Batch 000/010 | Train Loss: 0.00\n",
            "Epoch: 099/200 | Batch 000/010 | Train Loss: 0.00\n",
            "Epoch: 100/200 | Batch 000/010 | Train Loss: 0.00\n",
            "Epoch: 101/200 | Batch 000/010 | Train Loss: 0.00\n",
            "Epoch: 102/200 | Batch 000/010 | Train Loss: 0.00\n",
            "Epoch: 103/200 | Batch 000/010 | Train Loss: 0.00\n",
            "Epoch: 104/200 | Batch 000/010 | Train Loss: 0.00\n",
            "Epoch: 105/200 | Batch 000/010 | Train Loss: 0.00\n",
            "Epoch: 106/200 | Batch 000/010 | Train Loss: 0.00\n",
            "Epoch: 107/200 | Batch 000/010 | Train Loss: 0.00\n",
            "Epoch: 108/200 | Batch 000/010 | Train Loss: 0.00\n",
            "Epoch: 109/200 | Batch 000/010 | Train Loss: 0.00\n",
            "Epoch: 110/200 | Batch 000/010 | Train Loss: 0.00\n",
            "Epoch: 111/200 | Batch 000/010 | Train Loss: 0.00\n",
            "Epoch: 112/200 | Batch 000/010 | Train Loss: 0.00\n",
            "Epoch: 113/200 | Batch 000/010 | Train Loss: 0.00\n",
            "Epoch: 114/200 | Batch 000/010 | Train Loss: 0.00\n",
            "Epoch: 115/200 | Batch 000/010 | Train Loss: 0.00\n",
            "Epoch: 116/200 | Batch 000/010 | Train Loss: 0.00\n",
            "Epoch: 117/200 | Batch 000/010 | Train Loss: 0.00\n",
            "Epoch: 118/200 | Batch 000/010 | Train Loss: 0.00\n",
            "Epoch: 119/200 | Batch 000/010 | Train Loss: 0.00\n",
            "Epoch: 120/200 | Batch 000/010 | Train Loss: 0.00\n",
            "Epoch: 121/200 | Batch 000/010 | Train Loss: 0.00\n",
            "Epoch: 122/200 | Batch 000/010 | Train Loss: 0.00\n",
            "Epoch: 123/200 | Batch 000/010 | Train Loss: 0.00\n",
            "Epoch: 124/200 | Batch 000/010 | Train Loss: 0.00\n",
            "Epoch: 125/200 | Batch 000/010 | Train Loss: 0.00\n",
            "Epoch: 126/200 | Batch 000/010 | Train Loss: 0.00\n",
            "Epoch: 127/200 | Batch 000/010 | Train Loss: 0.00\n",
            "Epoch: 128/200 | Batch 000/010 | Train Loss: 0.00\n",
            "Epoch: 129/200 | Batch 000/010 | Train Loss: 0.00\n",
            "Epoch: 130/200 | Batch 000/010 | Train Loss: 0.00\n",
            "Epoch: 131/200 | Batch 000/010 | Train Loss: 0.00\n",
            "Epoch: 132/200 | Batch 000/010 | Train Loss: 0.00\n",
            "Epoch: 133/200 | Batch 000/010 | Train Loss: 0.00\n",
            "Epoch: 134/200 | Batch 000/010 | Train Loss: 0.00\n",
            "Epoch: 135/200 | Batch 000/010 | Train Loss: 0.00\n",
            "Epoch: 136/200 | Batch 000/010 | Train Loss: 0.00\n",
            "Epoch: 137/200 | Batch 000/010 | Train Loss: 0.00\n",
            "Epoch: 138/200 | Batch 000/010 | Train Loss: 0.00\n",
            "Epoch: 139/200 | Batch 000/010 | Train Loss: 0.00\n",
            "Epoch: 140/200 | Batch 000/010 | Train Loss: 0.00\n",
            "Epoch: 141/200 | Batch 000/010 | Train Loss: 0.00\n",
            "Epoch: 142/200 | Batch 000/010 | Train Loss: 0.00\n",
            "Epoch: 143/200 | Batch 000/010 | Train Loss: 0.00\n",
            "Epoch: 144/200 | Batch 000/010 | Train Loss: 0.00\n",
            "Epoch: 145/200 | Batch 000/010 | Train Loss: 0.00\n",
            "Epoch: 146/200 | Batch 000/010 | Train Loss: 0.00\n",
            "Epoch: 147/200 | Batch 000/010 | Train Loss: 0.00\n",
            "Epoch: 148/200 | Batch 000/010 | Train Loss: 0.00\n",
            "Epoch: 149/200 | Batch 000/010 | Train Loss: 0.00\n",
            "Epoch: 150/200 | Batch 000/010 | Train Loss: 0.00\n",
            "Epoch: 151/200 | Batch 000/010 | Train Loss: 0.00\n",
            "Epoch: 152/200 | Batch 000/010 | Train Loss: 0.00\n",
            "Epoch: 153/200 | Batch 000/010 | Train Loss: 0.00\n",
            "Epoch: 154/200 | Batch 000/010 | Train Loss: 0.00\n",
            "Epoch: 155/200 | Batch 000/010 | Train Loss: 0.00\n",
            "Epoch: 156/200 | Batch 000/010 | Train Loss: 0.00\n",
            "Epoch: 157/200 | Batch 000/010 | Train Loss: 0.00\n",
            "Epoch: 158/200 | Batch 000/010 | Train Loss: 0.00\n",
            "Epoch: 159/200 | Batch 000/010 | Train Loss: 0.00\n",
            "Epoch: 160/200 | Batch 000/010 | Train Loss: 0.00\n",
            "Epoch: 161/200 | Batch 000/010 | Train Loss: 0.00\n",
            "Epoch: 162/200 | Batch 000/010 | Train Loss: 0.00\n",
            "Epoch: 163/200 | Batch 000/010 | Train Loss: 0.00\n",
            "Epoch: 164/200 | Batch 000/010 | Train Loss: 0.00\n",
            "Epoch: 165/200 | Batch 000/010 | Train Loss: 0.00\n",
            "Epoch: 166/200 | Batch 000/010 | Train Loss: 0.00\n",
            "Epoch: 167/200 | Batch 000/010 | Train Loss: 0.00\n",
            "Epoch: 168/200 | Batch 000/010 | Train Loss: 0.00\n",
            "Epoch: 169/200 | Batch 000/010 | Train Loss: 0.00\n",
            "Epoch: 170/200 | Batch 000/010 | Train Loss: 0.00\n",
            "Epoch: 171/200 | Batch 000/010 | Train Loss: 0.00\n",
            "Epoch: 172/200 | Batch 000/010 | Train Loss: 0.00\n",
            "Epoch: 173/200 | Batch 000/010 | Train Loss: 0.00\n",
            "Epoch: 174/200 | Batch 000/010 | Train Loss: 0.00\n",
            "Epoch: 175/200 | Batch 000/010 | Train Loss: 0.00\n",
            "Epoch: 176/200 | Batch 000/010 | Train Loss: 0.00\n",
            "Epoch: 177/200 | Batch 000/010 | Train Loss: 0.00\n",
            "Epoch: 178/200 | Batch 000/010 | Train Loss: 0.00\n",
            "Epoch: 179/200 | Batch 000/010 | Train Loss: 0.00\n",
            "Epoch: 180/200 | Batch 000/010 | Train Loss: 0.00\n",
            "Epoch: 181/200 | Batch 000/010 | Train Loss: 0.00\n",
            "Epoch: 182/200 | Batch 000/010 | Train Loss: 0.00\n",
            "Epoch: 183/200 | Batch 000/010 | Train Loss: 0.00\n",
            "Epoch: 184/200 | Batch 000/010 | Train Loss: 0.00\n",
            "Epoch: 185/200 | Batch 000/010 | Train Loss: 0.00\n",
            "Epoch: 186/200 | Batch 000/010 | Train Loss: 0.00\n",
            "Epoch: 187/200 | Batch 000/010 | Train Loss: 0.00\n",
            "Epoch: 188/200 | Batch 000/010 | Train Loss: 0.00\n",
            "Epoch: 189/200 | Batch 000/010 | Train Loss: 0.00\n",
            "Epoch: 190/200 | Batch 000/010 | Train Loss: 0.00\n",
            "Epoch: 191/200 | Batch 000/010 | Train Loss: 0.00\n",
            "Epoch: 192/200 | Batch 000/010 | Train Loss: 0.00\n",
            "Epoch: 193/200 | Batch 000/010 | Train Loss: 0.00\n",
            "Epoch: 194/200 | Batch 000/010 | Train Loss: 0.00\n",
            "Epoch: 195/200 | Batch 000/010 | Train Loss: 0.00\n",
            "Epoch: 196/200 | Batch 000/010 | Train Loss: 0.00\n",
            "Epoch: 197/200 | Batch 000/010 | Train Loss: 0.00\n",
            "Epoch: 198/200 | Batch 000/010 | Train Loss: 0.00\n",
            "Epoch: 199/200 | Batch 000/010 | Train Loss: 0.00\n",
            "Epoch: 200/200 | Batch 000/010 | Train Loss: 0.00\n"
          ]
        }
      ]
    },
    {
      "cell_type": "code",
      "source": [
        "# Vamos a hacer un plot del loss, a ver qué ha pasado\n",
        "\n",
        "plt.plot(loss_history)"
      ],
      "metadata": {
        "id": "cRJE9NUvo8hE",
        "outputId": "95a4bd63-1900-4796-dc89-6a0df897214a",
        "colab": {
          "base_uri": "https://localhost:8080/",
          "height": 448
        }
      },
      "execution_count": 77,
      "outputs": [
        {
          "output_type": "execute_result",
          "data": {
            "text/plain": [
              "[<matplotlib.lines.Line2D at 0x793242cc8f50>]"
            ]
          },
          "metadata": {},
          "execution_count": 77
        },
        {
          "output_type": "display_data",
          "data": {
            "text/plain": [
              "<Figure size 640x480 with 1 Axes>"
            ],
            "image/png": "[encoded data removed]"
          },
          "metadata": {}
        }
      ]
    },
    {
      "cell_type": "code",
      "source": [
        "# Vamos a evaluar el funcionamiento del modelo\n",
        "\n",
        "model.eval() # se fijan parametros del modelo para evaluar\n",
        "\n",
        "# predecimos los valores del rango X_range segun el MLP\n",
        "\n",
        "# Se pasan a un tensor normalizado\n",
        "X_range_norm = (X_range - x_mean) / x_std\n",
        "X_range_norm = torch.tensor(X_range_norm, dtype=torch.float32)\n",
        "\n",
        "# Se meten en el modelo\n",
        "y_mlp_norm = model(X_range_norm)\n",
        "\n",
        "# Ahora se desnormalizan para que estén en la misma escala\n",
        "y_mlp_norm = y_mlp_norm.detach().numpy().astype(np.float64) # dejan de ser un tensor\n",
        "y_mlp = y_mlp_norm * y_std + y_mean # desnormalizan"
      ],
      "metadata": {
        "id": "MdSzJFI2pKV5"
      },
      "execution_count": 78,
      "outputs": []
    },
    {
      "cell_type": "code",
      "source": [
        "# Vamos a hacer un plot con los resultados\n",
        "\n",
        "# Los datos originales\n",
        "plt.scatter(X, y, label=\"Datos\")\n",
        "\n",
        "# Los datos predichos por la regresion lineal\n",
        "plt.plot(X_range, y_linear, label=\"Regresión lineal\", linestyle=\"--\", color='green')\n",
        "\n",
        "# Los datos predichos por el MLP\n",
        "plt.plot(X_range, y_mlp, label=\"MLP\", color='orange')\n",
        "\n",
        "plt.xlabel(\"X\")\n",
        "plt.ylabel(\"y\")\n",
        "plt.legend()\n",
        "plt.show()"
      ],
      "metadata": {
        "id": "EYdn5Zc7pNxI",
        "outputId": "51b3060d-da62-4d36-9fbf-a95a2f5fa59a",
        "colab": {
          "base_uri": "https://localhost:8080/",
          "height": 449
        }
      },
      "execution_count": 79,
      "outputs": [
        {
          "output_type": "display_data",
          "data": {
            "text/plain": [
              "<Figure size 640x480 with 1 Axes>"
            ],
            "image/png": "[encoded data removed]"
          },
          "metadata": {}
        }
      ]
    },
    {
      "cell_type": "markdown",
      "source": [
        "### 02. Ejercicio 2\n",
        "\n",
        "Usando el código siguiente, construye un MLP que se ajuste razonablemente a los puntos de ese seno. Puedes jugar con la creación de datos.\n"
      ],
      "metadata": {
        "id": "vNwKzc7yrG18"
      }
    },
    {
      "cell_type": "code",
      "source": [
        "# Creamos los datos, en este caso un seno\n",
        "\n",
        "import numpy as np\n",
        "\n",
        "cycles = 2  # numero de periodos\n",
        "n = 100     # numero de datos en x\n",
        "\n",
        "length = 2 * np.pi * cycles\n",
        "\n",
        "x = np.arange(0, length, length / n)\n",
        "y = np.sin(x)\n",
        "\n",
        "plt.plot(x, y, '-')\n",
        "\n",
        "print(x.shape)\n",
        "print(y.shape)"
      ],
      "metadata": {
        "id": "uJ6Cujx4vLOI"
      },
      "execution_count": null,
      "outputs": []
    },
    {
      "cell_type": "markdown",
      "source": [
        "### 03. Ejercicio 3\n",
        "\n",
        "Regresión con datos de felicidad\n",
        "\n",
        "Se analizan unos datos obtenido de Kaggle.com sobre la encuesta de felicidad de 2021: [enlace](https://https://www.kaggle.com/datasets/ajaypalsinghlo/world-happiness-report-2021)\n",
        "\n",
        "Una vez limpiados y preparados la base de datos consta de 9 variables predictoras y una variable criterio:\n",
        "\n",
        "**Criterio**: Life.Ladder.\n",
        "\n",
        "**Predictoras**: year, Log.GDP.per.capita, Social.support, Healthy.life.expectancy.at.birth, Freedom.to.make.life.choices, Generosity, Perceptions.of.corruption, Positive.affect, Negative.affect.\n"
      ],
      "metadata": {
        "id": "9NnoUgPLrUat"
      }
    },
    {
      "cell_type": "code",
      "source": [
        "# Funciones para importar y preparar los datos\n",
        "\n",
        "import pandas as pd\n",
        "url = 'https://raw.githubusercontent.com/mcstllns/UNIR2024/main/data-happiness.csv'\n",
        "data  = pd.read_csv(url)\n",
        "print(data.keys())\n",
        "data.head()\n",
        "\n",
        "# El fichero tiene datos perdidos y hay que eliminar las filas\n",
        "data = data.dropna()\n",
        "\n",
        "# Creamos conjuntos X e y\n",
        "X = data.drop('Life.Ladder', axis=1)\n",
        "y = data['Life.Ladder']\n",
        "\n",
        "print(X.head())\n",
        "print(y.head())\n"
      ],
      "metadata": {
        "id": "gDBHKx3WRNdb"
      },
      "execution_count": null,
      "outputs": []
    },
    {
      "cell_type": "code",
      "source": [
        "# preparamos los datos\n",
        "\n",
        "from torch.utils.data import TensorDataset, DataLoader\n",
        "\n",
        "# Normalizamos X e y\n",
        "x_mean, x_std = X.mean(), X.std()\n",
        "y_mean, y_std = y.mean(), y.std()\n",
        "\n",
        "X_norm = (X - x_mean) / x_std\n",
        "y_norm = (y - y_mean) / y_std\n",
        "\n",
        "# Pasamos las variables a tensores\n",
        "# Ojo, como son dataframes de pandas la sintaxis es un poco diferente\n",
        "\n",
        "tensor_X = torch.from_numpy(X_norm.values)\n",
        "tensor_y = torch.from_numpy(y_norm.values)\n",
        "\n",
        "# Creamos el dataset y el dataloader\n",
        "my_dataset = TensorDataset(tensor_X,tensor_y) # create your datset\n",
        "my_dataloader = DataLoader(my_dataset) # create your dataloader"
      ],
      "metadata": {
        "id": "xj5zFAwBsc-A"
      },
      "execution_count": null,
      "outputs": []
    },
    {
      "cell_type": "code",
      "source": [
        "print(tensor_X.shape)\n",
        "print(tensor_y.shape)"
      ],
      "metadata": {
        "id": "uPDtqU8askX6"
      },
      "execution_count": null,
      "outputs": []
    },
    {
      "cell_type": "markdown",
      "source": [
        "Ahora ya se puede calcular la red\n",
        "\n",
        "Ojo: NO intentes hacer un plot de X, y porque ahora X tiene 9 variables\n",
        "\n",
        "El mejor modelo calculado con estadística convencional (modelo lineal) da un **MSE de 0.235**\n",
        "\n",
        "**Supera el MSE de la regresión múltiple**\n"
      ],
      "metadata": {
        "id": "6QTgXumvuF1A"
      }
    }
  ]
}